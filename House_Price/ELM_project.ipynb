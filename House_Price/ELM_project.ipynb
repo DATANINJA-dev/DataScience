{
 "cells": [
  {
   "cell_type": "markdown",
   "id": "559f9bb2",
   "metadata": {
    "papermill": {
     "duration": 0.021896,
     "end_time": "2021-11-30T17:15:32.014183",
     "exception": false,
     "start_time": "2021-11-30T17:15:31.992287",
     "status": "completed"
    },
    "tags": []
   },
   "source": [
    "# End to End machine learning project [HOUSING HOUSE PREDICTION]\n",
    "\n",
    "The goal of this project is to predict the price of the house.\n",
    "\n",
    "1. **Suburb**: Suburb\n",
    "2. **Address**: Address\n",
    "3. **Rooms**: Number of rooms\n",
    "4. **Price**: Price in Australian dollars\n",
    "5. **Method**: S - property sold; \n",
    "               SP - property sold prior\n",
    "               PI - property passed in\n",
    "               PN - sold prior not disclosed\n",
    "               SN - sold not disclosed\n",
    "               NB - no bid\n",
    "               VB - vendor bid\n",
    "               W - withdrawn prior to auction\n",
    "               SA - sold after auction\n",
    "               SS - sold after auction price not disclosed. \n",
    "               N/A - price or highest bid not available.\n",
    "6. **Type**: br - bedroom(s);\n",
    "             h - house,cottage,villa, semi,terrace;\n",
    "             u - unit, duplex;\n",
    "             t - townhouse;\n",
    "             dev site - development site;\n",
    "             o res - other residential.\n",
    "7. **SellerG**: Real Estate Agent\n",
    "8. **Date**: Date sold\n",
    "9. **Distance**: Distance from CBD in Kilometres\n",
    "10. **Regionname**: General Region (West, North West, North, North east …etc)\n",
    "11. **Propertycount**: Number of properties that exist in the suburb.\n",
    "12. **Bedroom2** : Scraped # of Bedrooms (from different source)\n",
    "13. **Bathroom**: Number of Bathrooms\n",
    "14. **Car**: Number of carspots\n",
    "15. **Landsize**: Land Size in Metres\n",
    "16. **BuildingArea**: Building Size in Metres\n",
    "17. **YearBuilt**: Year the house was built\n",
    "18. **CouncilArea**: Governing council for the area\n",
    "19. **Lattitude**: Self explanitory\n",
    "20. **Longtitude**: Self explanitory\n",
    "\n",
    "### Libraries:"
   ]
  },
  {
   "cell_type": "code",
   "execution_count": 1,
   "id": "08515b40-9adf-411f-9b17-79bb4a61fb03",
   "metadata": {},
   "outputs": [],
   "source": [
    "import pandas as pd\n",
    "import numpy as np\n",
    "import datetime as dt\n",
    "\n",
    "# Scikit-Learn ≥0.20 is required\n",
    "import sklearn\n",
    "assert sklearn.__version__ >= \"0.20\"\n",
    "\n",
    "from sklearn.pipeline import Pipeline\n",
    "from sklearn.preprocessing import OneHotEncoder, OrdinalEncoder, StandardScaler, FunctionTransformer\n",
    "from sklearn.compose import ColumnTransformer\n",
    "from sklearn.impute import SimpleImputer\n",
    "from sklearn.base import BaseEstimator, TransformerMixin"
   ]
  },
  {
   "cell_type": "markdown",
   "id": "b1bb3671-13db-4e36-ba8b-3a33d7e56c8d",
   "metadata": {},
   "source": [
    "## Load the dataset:"
   ]
  },
  {
   "cell_type": "code",
   "execution_count": 2,
   "id": "ad16f056-125b-40aa-a1a0-a69118546030",
   "metadata": {},
   "outputs": [],
   "source": [
    "df = pd.read_csv('dataset/housing-snapshot/train_set.csv',index_col=0) "
   ]
  },
  {
   "cell_type": "code",
   "execution_count": 3,
   "id": "ddf5191f-af47-4cac-9845-1ddbac117b47",
   "metadata": {},
   "outputs": [
    {
     "data": {
      "text/html": [
       "<div>\n",
       "<style scoped>\n",
       "    .dataframe tbody tr th:only-of-type {\n",
       "        vertical-align: middle;\n",
       "    }\n",
       "\n",
       "    .dataframe tbody tr th {\n",
       "        vertical-align: top;\n",
       "    }\n",
       "\n",
       "    .dataframe thead th {\n",
       "        text-align: right;\n",
       "    }\n",
       "</style>\n",
       "<table border=\"1\" class=\"dataframe\">\n",
       "  <thead>\n",
       "    <tr style=\"text-align: right;\">\n",
       "      <th></th>\n",
       "      <th>Suburb</th>\n",
       "      <th>Address</th>\n",
       "      <th>Rooms</th>\n",
       "      <th>Type</th>\n",
       "      <th>Price</th>\n",
       "      <th>Method</th>\n",
       "      <th>SellerG</th>\n",
       "      <th>Date</th>\n",
       "      <th>Distance</th>\n",
       "      <th>Postcode</th>\n",
       "      <th>...</th>\n",
       "      <th>Bathroom</th>\n",
       "      <th>Car</th>\n",
       "      <th>Landsize</th>\n",
       "      <th>BuildingArea</th>\n",
       "      <th>YearBuilt</th>\n",
       "      <th>CouncilArea</th>\n",
       "      <th>Lattitude</th>\n",
       "      <th>Longtitude</th>\n",
       "      <th>Regionname</th>\n",
       "      <th>Propertycount</th>\n",
       "    </tr>\n",
       "    <tr>\n",
       "      <th>index</th>\n",
       "      <th></th>\n",
       "      <th></th>\n",
       "      <th></th>\n",
       "      <th></th>\n",
       "      <th></th>\n",
       "      <th></th>\n",
       "      <th></th>\n",
       "      <th></th>\n",
       "      <th></th>\n",
       "      <th></th>\n",
       "      <th></th>\n",
       "      <th></th>\n",
       "      <th></th>\n",
       "      <th></th>\n",
       "      <th></th>\n",
       "      <th></th>\n",
       "      <th></th>\n",
       "      <th></th>\n",
       "      <th></th>\n",
       "      <th></th>\n",
       "      <th></th>\n",
       "    </tr>\n",
       "  </thead>\n",
       "  <tbody>\n",
       "    <tr>\n",
       "      <th>0</th>\n",
       "      <td>Aberfeldie</td>\n",
       "      <td>241 Buckley St</td>\n",
       "      <td>4</td>\n",
       "      <td>h</td>\n",
       "      <td>1380000.0</td>\n",
       "      <td>VB</td>\n",
       "      <td>Nelson</td>\n",
       "      <td>12/08/2017</td>\n",
       "      <td>7.5</td>\n",
       "      <td>3040.0</td>\n",
       "      <td>...</td>\n",
       "      <td>2.0</td>\n",
       "      <td>2.0</td>\n",
       "      <td>766.0</td>\n",
       "      <td>NaN</td>\n",
       "      <td>NaN</td>\n",
       "      <td>Moonee Valley</td>\n",
       "      <td>-37.75595</td>\n",
       "      <td>144.90551</td>\n",
       "      <td>Western Metropolitan</td>\n",
       "      <td>1543.0</td>\n",
       "    </tr>\n",
       "    <tr>\n",
       "      <th>1</th>\n",
       "      <td>Northcote</td>\n",
       "      <td>67 Charles St</td>\n",
       "      <td>2</td>\n",
       "      <td>h</td>\n",
       "      <td>1100000.0</td>\n",
       "      <td>SP</td>\n",
       "      <td>Jellis</td>\n",
       "      <td>20/05/2017</td>\n",
       "      <td>5.5</td>\n",
       "      <td>3070.0</td>\n",
       "      <td>...</td>\n",
       "      <td>1.0</td>\n",
       "      <td>1.0</td>\n",
       "      <td>189.0</td>\n",
       "      <td>NaN</td>\n",
       "      <td>NaN</td>\n",
       "      <td>Darebin</td>\n",
       "      <td>-37.77670</td>\n",
       "      <td>144.99240</td>\n",
       "      <td>Northern Metropolitan</td>\n",
       "      <td>11364.0</td>\n",
       "    </tr>\n",
       "    <tr>\n",
       "      <th>2</th>\n",
       "      <td>Balwyn North</td>\n",
       "      <td>42 Maud St</td>\n",
       "      <td>3</td>\n",
       "      <td>h</td>\n",
       "      <td>1480000.0</td>\n",
       "      <td>PI</td>\n",
       "      <td>Jellis</td>\n",
       "      <td>15/10/2016</td>\n",
       "      <td>9.2</td>\n",
       "      <td>3104.0</td>\n",
       "      <td>...</td>\n",
       "      <td>1.0</td>\n",
       "      <td>4.0</td>\n",
       "      <td>605.0</td>\n",
       "      <td>116.0</td>\n",
       "      <td>1950.0</td>\n",
       "      <td>Boroondara</td>\n",
       "      <td>-37.79510</td>\n",
       "      <td>145.06960</td>\n",
       "      <td>Southern Metropolitan</td>\n",
       "      <td>7809.0</td>\n",
       "    </tr>\n",
       "    <tr>\n",
       "      <th>3</th>\n",
       "      <td>Brunswick</td>\n",
       "      <td>13 Percy St</td>\n",
       "      <td>3</td>\n",
       "      <td>h</td>\n",
       "      <td>1055000.0</td>\n",
       "      <td>S</td>\n",
       "      <td>Nelson</td>\n",
       "      <td>7/05/2016</td>\n",
       "      <td>5.2</td>\n",
       "      <td>3056.0</td>\n",
       "      <td>...</td>\n",
       "      <td>1.0</td>\n",
       "      <td>1.0</td>\n",
       "      <td>324.0</td>\n",
       "      <td>NaN</td>\n",
       "      <td>1930.0</td>\n",
       "      <td>Moreland</td>\n",
       "      <td>-37.76530</td>\n",
       "      <td>144.95860</td>\n",
       "      <td>Northern Metropolitan</td>\n",
       "      <td>11918.0</td>\n",
       "    </tr>\n",
       "    <tr>\n",
       "      <th>4</th>\n",
       "      <td>Templestowe Lower</td>\n",
       "      <td>253 Thompsons Rd</td>\n",
       "      <td>4</td>\n",
       "      <td>h</td>\n",
       "      <td>1000000.0</td>\n",
       "      <td>VB</td>\n",
       "      <td>hockingstuart</td>\n",
       "      <td>13/08/2016</td>\n",
       "      <td>13.8</td>\n",
       "      <td>3107.0</td>\n",
       "      <td>...</td>\n",
       "      <td>3.0</td>\n",
       "      <td>2.0</td>\n",
       "      <td>728.0</td>\n",
       "      <td>164.0</td>\n",
       "      <td>1970.0</td>\n",
       "      <td>Manningham</td>\n",
       "      <td>-37.76800</td>\n",
       "      <td>145.10270</td>\n",
       "      <td>Eastern Metropolitan</td>\n",
       "      <td>5420.0</td>\n",
       "    </tr>\n",
       "  </tbody>\n",
       "</table>\n",
       "<p>5 rows × 21 columns</p>\n",
       "</div>"
      ],
      "text/plain": [
       "                  Suburb           Address  Rooms Type      Price Method  \\\n",
       "index                                                                      \n",
       "0             Aberfeldie    241 Buckley St      4    h  1380000.0     VB   \n",
       "1              Northcote     67 Charles St      2    h  1100000.0     SP   \n",
       "2           Balwyn North        42 Maud St      3    h  1480000.0     PI   \n",
       "3              Brunswick       13 Percy St      3    h  1055000.0      S   \n",
       "4      Templestowe Lower  253 Thompsons Rd      4    h  1000000.0     VB   \n",
       "\n",
       "             SellerG        Date  Distance  Postcode  ...  Bathroom  Car  \\\n",
       "index                                                 ...                  \n",
       "0             Nelson  12/08/2017       7.5    3040.0  ...       2.0  2.0   \n",
       "1             Jellis  20/05/2017       5.5    3070.0  ...       1.0  1.0   \n",
       "2             Jellis  15/10/2016       9.2    3104.0  ...       1.0  4.0   \n",
       "3             Nelson   7/05/2016       5.2    3056.0  ...       1.0  1.0   \n",
       "4      hockingstuart  13/08/2016      13.8    3107.0  ...       3.0  2.0   \n",
       "\n",
       "       Landsize  BuildingArea  YearBuilt    CouncilArea Lattitude  Longtitude  \\\n",
       "index                                                                           \n",
       "0         766.0           NaN        NaN  Moonee Valley -37.75595   144.90551   \n",
       "1         189.0           NaN        NaN        Darebin -37.77670   144.99240   \n",
       "2         605.0         116.0     1950.0     Boroondara -37.79510   145.06960   \n",
       "3         324.0           NaN     1930.0       Moreland -37.76530   144.95860   \n",
       "4         728.0         164.0     1970.0     Manningham -37.76800   145.10270   \n",
       "\n",
       "                  Regionname Propertycount  \n",
       "index                                       \n",
       "0       Western Metropolitan        1543.0  \n",
       "1      Northern Metropolitan       11364.0  \n",
       "2      Southern Metropolitan        7809.0  \n",
       "3      Northern Metropolitan       11918.0  \n",
       "4       Eastern Metropolitan        5420.0  \n",
       "\n",
       "[5 rows x 21 columns]"
      ]
     },
     "execution_count": 3,
     "metadata": {},
     "output_type": "execute_result"
    }
   ],
   "source": [
    "df.head()"
   ]
  },
  {
   "cell_type": "markdown",
   "id": "927e1464-aeba-4443-999c-dd432ae01aa0",
   "metadata": {},
   "source": [
    "1. **Categorical estimators:** Suburb, Address, Type, Method, SellerG, CouncilArea, Postcode and Regionname.\n",
    "2. **Numerical estimators:** Rooms, Date, Distance, Bedroom2, Bathrom, Car, Landsize, BuildingArea, YearBuilt, Lattitude, Longitude and Propertycount.\n",
    "3. **Target value:** price"
   ]
  },
  {
   "cell_type": "code",
   "execution_count": 4,
   "id": "dc677b44-d050-4155-9507-36dd1c63b6fd",
   "metadata": {},
   "outputs": [],
   "source": [
    "# POSTCODE IS NOT NUMERIC, we should change it to categorical\n",
    "df['Postcode'] = pd.Categorical(df.Postcode)\n",
    "\n",
    "# Convert date to numerical value, or it won't be useful\n",
    "df['Date'] = pd.to_datetime(df['Date'])\n",
    "df['Date']=df['Date'].map(dt.datetime.toordinal)"
   ]
  },
  {
   "cell_type": "markdown",
   "id": "d1f9bf3f-4ad1-48a9-9d23-05718f3643bf",
   "metadata": {
    "tags": []
   },
   "source": [
    "## Exploratory data analysis:\n",
    "\n",
    "#### Categorical estimators:"
   ]
  },
  {
   "cell_type": "code",
   "execution_count": 5,
   "id": "56dde522-fb78-407a-be66-7059cc673657",
   "metadata": {},
   "outputs": [],
   "source": [
    "categorical_estimators = df[['Suburb', 'Address', 'Type', 'Method', 'SellerG', 'CouncilArea', 'Postcode', 'Regionname']]"
   ]
  },
  {
   "cell_type": "code",
   "execution_count": 6,
   "id": "12892ce2-4424-499a-81c4-ffea49ea0653",
   "metadata": {},
   "outputs": [
    {
     "data": {
      "text/plain": [
       "Suburb          0.000000\n",
       "Address         0.000000\n",
       "Type            0.000000\n",
       "Method          0.000000\n",
       "SellerG         0.000000\n",
       "CouncilArea    10.180412\n",
       "Postcode        0.000000\n",
       "Regionname      0.000000\n",
       "dtype: float64"
      ]
     },
     "execution_count": 6,
     "metadata": {},
     "output_type": "execute_result"
    }
   ],
   "source": [
    "# Share of null values\n",
    "(categorical_estimators.isnull().sum()/len(df))*100"
   ]
  },
  {
   "cell_type": "code",
   "execution_count": 7,
   "id": "ac40d503-26ef-47c8-8788-a3843dfe24f2",
   "metadata": {},
   "outputs": [],
   "source": [
    "# List of unique values for categorical variables\n",
    "\n",
    "Suburb = df.Suburb.unique()\n",
    "Address = df.Address.unique()\n",
    "Type = df.Type.unique()\n",
    "Method = df.Method.unique()\n",
    "SellerG = df.SellerG.unique()\n",
    "CouncilArea = df.CouncilArea.unique()\n",
    "Postcode = df.Postcode.unique()\n",
    "Regionname = df.Regionname.unique()"
   ]
  },
  {
   "cell_type": "markdown",
   "id": "53c386ca-e808-49ca-8c29-35ba25184f55",
   "metadata": {},
   "source": [
    "#### Numerical estimators:"
   ]
  },
  {
   "cell_type": "code",
   "execution_count": 8,
   "id": "000e6460-e838-44f8-8197-a22ebcb6ffe0",
   "metadata": {},
   "outputs": [],
   "source": [
    "numerical_estimators = df[['Rooms', 'Date', 'Distance', 'Bedroom2', 'Bathroom', 'Car', 'Landsize', 'BuildingArea', 'YearBuilt', 'Lattitude', 'Longtitude', 'Propertycount']]"
   ]
  },
  {
   "cell_type": "code",
   "execution_count": 9,
   "id": "3ab6f55e-eb13-491f-aebd-1cd919c16e1d",
   "metadata": {},
   "outputs": [
    {
     "data": {
      "text/plain": [
       "Rooms             0.000000\n",
       "Date              0.000000\n",
       "Distance          0.000000\n",
       "Bedroom2          0.000000\n",
       "Bathroom          0.000000\n",
       "Car               0.460236\n",
       "Landsize          0.000000\n",
       "BuildingArea     46.796760\n",
       "YearBuilt        39.212077\n",
       "Lattitude         0.000000\n",
       "Longtitude        0.000000\n",
       "Propertycount     0.000000\n",
       "dtype: float64"
      ]
     },
     "execution_count": 9,
     "metadata": {},
     "output_type": "execute_result"
    }
   ],
   "source": [
    "# Share of null values\n",
    "(numerical_estimators.isnull().sum()/len(df))*100"
   ]
  },
  {
   "cell_type": "markdown",
   "id": "d1b2031a-5c0e-4fd6-b522-68232dbb6c7d",
   "metadata": {
    "tags": []
   },
   "source": [
    "## Prepare the data for Machine Learning algorithms"
   ]
  },
  {
   "cell_type": "code",
   "execution_count": 10,
   "id": "a2c5c8dc-9292-407d-a782-59621f6304b0",
   "metadata": {},
   "outputs": [],
   "source": [
    "\n",
    "\n",
    "# column index\n",
    "Rooms_ix, Bedroom2_ix, Bathroom_ix, BuildingArea_ix = 0, 2, 3, 6\n",
    "\n",
    "class CombinedAttributesAdder(BaseEstimator, TransformerMixin):\n",
    "    def __init__(self, add_bedrooms_per_room = True): # no *args or **kargs\n",
    "        self.add_bedrooms_per_room = add_bedrooms_per_room\n",
    "        \n",
    "    def fit(self, X, y=None):\n",
    "        return self  # nothing else to do\n",
    "    \n",
    "    def transform(self, X):\n",
    "        rooms_per_building_area = X[:, Rooms_ix] / (1.0 +X[:, BuildingArea_ix])# add 1 to avoid 0 division\n",
    "        if self.add_bedrooms_per_room:\n",
    "            bedrooms_per_room = X[:, Bedroom2_ix] / (1.0 + X[:, Bathroom_ix]) # add 1 to avoid 0 division\n",
    "            return np.c_[X, rooms_per_building_area, bedrooms_per_room]\n",
    "        else:\n",
    "            return np.c_[X, rooms_per_building_area]\n",
    "\n",
    "## create a function to replace 0 by NaN\n",
    "def replace_0_2_NaN(data):\n",
    "    data[data == 0] = np.nan\n",
    "    return data"
   ]
  },
  {
   "cell_type": "code",
   "execution_count": 11,
   "id": "3373027a-2cbf-4f3b-8440-619b914e744a",
   "metadata": {},
   "outputs": [],
   "source": [
    "# Pipeline transformation (can improve)\n",
    "imputer = SimpleImputer(strategy=\"median\")\n",
    "\n",
    "num0_pipeline = Pipeline([\n",
    "        ('zeros2NaN',FunctionTransformer(func = replace_0_2_NaN,validate=False)),\n",
    "        ('imputer', SimpleImputer(strategy=\"median\")),\n",
    "        ('log',FunctionTransformer(np.log1p, validate=True)),\n",
    "        ('std_scaler', StandardScaler()),\n",
    "    ])\n",
    "\n",
    "num_pipeline = Pipeline([\n",
    "        ('imputer', SimpleImputer(strategy=\"median\")),\n",
    "        ('attribs_adder', CombinedAttributesAdder()),\n",
    "        ('std_scaler', StandardScaler()),\n",
    "    ])\n",
    "\n",
    "cat_pipeline = Pipeline([\n",
    "        ('imputer', SimpleImputer(strategy=\"constant\",fill_value='Unknown')),\n",
    "        ('one_hot_encoder', OneHotEncoder(handle_unknown='ignore')),\n",
    "    ])"
   ]
  },
  {
   "cell_type": "code",
   "execution_count": 12,
   "id": "188f944d-6c5d-4586-8573-d447b0a84d99",
   "metadata": {},
   "outputs": [],
   "source": [
    "# All attributes\n",
    "num_attribs0 = ['Landsize','BuildingArea']\n",
    "num_attribs1 = list(numerical_estimators)\n",
    "cat_attribs = [\"CouncilArea\",'Type','Suburb','Postcode','SellerG']\n",
    "\n",
    "\n",
    "full_pipeline = ColumnTransformer([\n",
    "        (\"num0\", num0_pipeline, num_attribs0),\n",
    "        (\"num1\", num_pipeline, num_attribs1),\n",
    "        (\"cat\", cat_pipeline, cat_attribs),\n",
    "    ])\n",
    "\n",
    "housing_prepared = full_pipeline.fit_transform(df)"
   ]
  },
  {
   "cell_type": "code",
   "execution_count": 13,
   "id": "7a93da3f-245c-46a3-99aa-7a23da739bf1",
   "metadata": {},
   "outputs": [],
   "source": [
    "# Add predictor label\n",
    "housing_label = df['Price']"
   ]
  },
  {
   "cell_type": "markdown",
   "id": "c547a1eb-bda4-49d0-82c6-866c8170b8de",
   "metadata": {},
   "source": [
    "## Model Selection"
   ]
  },
  {
   "cell_type": "code",
   "execution_count": 14,
   "id": "262bb69c-c253-47a1-b182-7ed9c23cb970",
   "metadata": {},
   "outputs": [
    {
     "data": {
      "text/plain": [
       "GridSearchCV(cv=5, estimator=RandomForestRegressor(random_state=42),\n",
       "             param_grid=[{'max_depth': [3, 5, 7, 10],\n",
       "                          'max_features': [2, 4, 6, 8],\n",
       "                          'n_estimators': [3, 10, 30]},\n",
       "                         {'bootstrap': [False], 'max_features': [2, 3, 4],\n",
       "                          'n_estimators': [3, 10]}],\n",
       "             return_train_score=True, scoring='neg_root_mean_squared_error')"
      ]
     },
     "execution_count": 14,
     "metadata": {},
     "output_type": "execute_result"
    }
   ],
   "source": [
    "from sklearn.model_selection import GridSearchCV\n",
    "from sklearn.ensemble import RandomForestRegressor\n",
    "\n",
    "param_grid = [\n",
    "    # try 12 (3×4) combinations of hyperparameters\n",
    "    {'n_estimators': [3, 10, 30], 'max_features': [2, 4, 6, 8], 'max_depth':[3,5,7,10]},\n",
    "    # then try 6 (2×3) combinations with bootstrap set as False\n",
    "    {'bootstrap': [False], 'n_estimators': [3, 10], 'max_features': [2, 3, 4]},\n",
    "  ]\n",
    "\n",
    "\n",
    "forest_reg = RandomForestRegressor(random_state=42)\n",
    "\n",
    "# train across 5 folds, that's a total of (12+6)*5=90 rounds of training \n",
    "grid_search = GridSearchCV(forest_reg, param_grid, cv=5,\n",
    "                           scoring='neg_root_mean_squared_error',\n",
    "                           return_train_score=True)\n",
    "\n",
    "grid_search.fit(housing_prepared, housing_label)"
   ]
  },
  {
   "cell_type": "code",
   "execution_count": 15,
   "id": "05ef85ba-0ef1-4e79-9f4b-87fc71acd9f1",
   "metadata": {},
   "outputs": [
    {
     "name": "stdout",
     "output_type": "stream",
     "text": [
      "the best parameters are:\n",
      "{'bootstrap': False, 'max_features': 2, 'n_estimators': 10}\n"
     ]
    }
   ],
   "source": [
    "print(\"the best parameters are:\")\n",
    "print(grid_search.best_params_)"
   ]
  },
  {
   "cell_type": "code",
   "execution_count": 16,
   "id": "1b0d1015-ee0e-45d9-9b4d-c977ca0dcf35",
   "metadata": {},
   "outputs": [
    {
     "name": "stdout",
     "output_type": "stream",
     "text": [
      "the best trained model:\n"
     ]
    },
    {
     "data": {
      "text/plain": [
       "RandomForestRegressor(bootstrap=False, max_features=2, n_estimators=10,\n",
       "                      random_state=42)"
      ]
     },
     "execution_count": 16,
     "metadata": {},
     "output_type": "execute_result"
    }
   ],
   "source": [
    "print(\"the best trained model:\")\n",
    "grid_search.best_estimator_"
   ]
  },
  {
   "cell_type": "markdown",
   "id": "732ff504-6651-49a7-878e-f31137eca077",
   "metadata": {},
   "source": [
    " ## Final Model \n",
    " Create Final Model and evaluate it (You shoud do this only once)"
   ]
  },
  {
   "cell_type": "code",
   "execution_count": 17,
   "id": "ff4b7142-c54c-4c96-8a6b-c3eed1f7034e",
   "metadata": {},
   "outputs": [],
   "source": [
    "# Load test dataset\n",
    "X_test = pd.read_csv('dataset/housing-snapshot/test_set.csv',index_col=0)"
   ]
  },
  {
   "cell_type": "code",
   "execution_count": 18,
   "id": "671ecbe8-4e5f-44a6-a86b-f43c1cf22809",
   "metadata": {},
   "outputs": [],
   "source": [
    "# POSTCODE IS NOT NUMERIC, we should change it to categorical\n",
    "X_test['Postcode'] = pd.Categorical(X_test.Postcode)\n",
    "\n",
    "# Convert date to numerical value, or it won't be useful\n",
    "X_test['Date'] = pd.to_datetime(X_test['Date'])\n",
    "X_test['Date']=X_test['Date'].map(dt.datetime.toordinal)\n",
    "\n",
    "# Assign na values\n",
    "X_test[X_test['Type'].isin(Type)==False] = np.nan\n",
    "X_test[X_test['Address'].isin(Address)==False] = np.nan\n",
    "X_test[X_test['Suburb'].isin(Suburb)==False] = np.nan\n",
    "X_test[X_test['Method'].isin(Method)==False] = np.nan\n",
    "X_test[X_test['SellerG'].isin(SellerG)==False] = np.nan\n",
    "X_test[X_test['Postcode'].isin(Postcode)==False] = np.nan\n",
    "X_test[X_test['Regionname'].isin(Regionname)==False] = np.nan\n",
    "X_test[X_test['CouncilArea'].isin(CouncilArea)==False] = np.nan"
   ]
  },
  {
   "cell_type": "code",
   "execution_count": 19,
   "id": "ac28e297-c9fb-4500-948a-5af11d29f8fc",
   "metadata": {},
   "outputs": [],
   "source": [
    "grid_search = GridSearchCV(RandomForestRegressor(random_state=42, n_estimators=4, max_depth=10),\n",
    "                  param_grid={'max_features': range(2, 50, 2)},\n",
    "                  scoring='neg_root_mean_squared_error', return_train_score=True)\n",
    "\n",
    "grid_search.fit(housing_prepared, housing_label)\n",
    "\n",
    "final_model = grid_search.best_estimator_\n",
    "\n",
    "X_test_prepared = full_pipeline.transform(X_test)\n",
    "\n",
    "final_predictions = final_model.predict(X_test_prepared)\n",
    "\n",
    "df_output = pd.DataFrame(final_predictions)\n",
    "df_output = df_output.reset_index()\n",
    "df_output.columns = ['index','Price']\n",
    "\n",
    "## predict the test set and generate the submission file\n",
    "df_output.to_csv('baseline.csv',index=False)"
   ]
  }
 ],
 "metadata": {
  "kernelspec": {
   "display_name": "Python 3 (ipykernel)",
   "language": "python",
   "name": "python3"
  },
  "language_info": {
   "codemirror_mode": {
    "name": "ipython",
    "version": 3
   },
   "file_extension": ".py",
   "mimetype": "text/x-python",
   "name": "python",
   "nbconvert_exporter": "python",
   "pygments_lexer": "ipython3",
   "version": "3.8.5"
  },
  "papermill": {
   "default_parameters": {},
   "duration": 13.620996,
   "end_time": "2021-11-30T17:15:33.049118",
   "environment_variables": {},
   "exception": null,
   "input_path": "__notebook__.ipynb",
   "output_path": "__notebook__.ipynb",
   "parameters": {},
   "start_time": "2021-11-30T17:15:19.428122",
   "version": "2.3.3"
  }
 },
 "nbformat": 4,
 "nbformat_minor": 5
}
